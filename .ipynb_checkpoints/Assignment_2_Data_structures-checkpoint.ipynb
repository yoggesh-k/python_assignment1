{
 "cells": [
  {
   "cell_type": "code",
   "execution_count": 4,
   "id": "799b23b9-d8ef-458d-b72f-7871c17a0c39",
   "metadata": {},
   "outputs": [
    {
     "name": "stdout",
     "output_type": "stream",
     "text": [
      "Hello\n",
      "Hlo\n",
      "Hello\n",
      "World!\n",
      "World\n"
     ]
    }
   ],
   "source": [
    "# Ques1: Discuss string slicing and provide examples?\n",
    "\n",
    "\n",
    "\"\"\"\n",
    "  Ans : String slicing is a technique used to extract a portion of a string by specifying a range of indices.\n",
    "        This is done using the slice notation start:stop:step       \n",
    "        \n",
    "        start: The starting index of the slice (inclusive).\n",
    "        stop: The ending index of the slice (exclusive).\n",
    "        step: The step size or interval between indices.\n",
    "                                \n",
    "                                                            \"\"\"\n",
    "#Example of slicing : \n",
    "\n",
    "text = \"Hello, World!\"\n",
    "print(text[0:5])  \n",
    "\n",
    "\n",
    "#Slicing with Step :\n",
    "\n",
    "text = \"Hello, World!\"\n",
    "print(text[0:5:2])  \n",
    "\n",
    "#Omitting : \n",
    "\n",
    "text = \"Hello, World!\"\n",
    "print(text[:5])  \n",
    "print(text[7:]) \n",
    "\n",
    "\n",
    "#Negative indexing :\n",
    "\n",
    "text = \"Hello, World!\"\n",
    "print(text[-6:-1])  \n"
   ]
  },
  {
   "cell_type": "code",
   "execution_count": 7,
   "id": "f62547dc-0263-4c1e-b20a-fdc661bbee61",
   "metadata": {},
   "outputs": [
    {
     "name": "stdout",
     "output_type": "stream",
     "text": [
      "['apple', 'banana', 'cherry']\n",
      "['apple', 'blueberry', 'cherry']\n",
      "['apple', 'banana', 'apple']\n",
      "['apple', 42, True]\n",
      "['apple', 'apple', 'banana']\n"
     ]
    }
   ],
   "source": [
    "# Ques2: Explain the key features of lists in Python?\n",
    "\n",
    "\"\"\"\n",
    "   Ans: Lists in Python are a versatile and widely-used data structure.\n",
    "   \n",
    "        Some key features of list are:\n",
    "        \n",
    "       1. Ordered: Lists maintain the order of elements. The order in which you add items is preserved.\n",
    "       2. Mutable: We can change, add, or remove items after the list has been created.\n",
    "       3. Allow Duplicates: Lists can contain duplicate elements.\n",
    "       4. Heterogeneous Elements: Lists can contain elements of different data types.\n",
    "       5  Comprehensive Methods: Lists come with a variety of built-in methods for manipulation,\n",
    "          such as append(), extend(), insert(), remove(), pop(), sort(), reverse(), etc.\n",
    "                                        \n",
    "                                                                                               \"\"\"\n",
    "\n",
    "#Examples \n",
    "\n",
    "\n",
    "#1 orderd :\n",
    "\n",
    "fruits = [\"apple\", \"banana\", \"cherry\"]\n",
    "print(fruits) \n",
    "\n",
    "\n",
    "\n",
    "#2 mutable :\n",
    "\n",
    "fruits[1] = \"blueberry\"\n",
    "print(fruits)  \n",
    "\n",
    "\n",
    "#3 Allow Duplicates : \n",
    "\n",
    "fruits = [\"apple\", \"banana\", \"apple\"]\n",
    "print(fruits)  \n",
    "\n",
    "\n",
    "#4 Heterogeneous element:\n",
    "\n",
    "\n",
    "mixed_list = [\"apple\", 42, True]\n",
    "print(mixed_list) \n",
    "\n",
    "\n",
    "\n",
    "#5 Comprehensive Method :\n",
    "\n",
    "\n",
    "fruits.sort()\n",
    "print(fruits) \n",
    "\n",
    "    \n"
   ]
  },
  {
   "cell_type": "code",
   "execution_count": 10,
   "id": "c614abff-e2ca-4957-9f8e-e0d5489a794d",
   "metadata": {},
   "outputs": [
    {
     "name": "stdout",
     "output_type": "stream",
     "text": [
      "10\n",
      "30\n",
      "[20, 30, 40]\n",
      "[10, 20, 30]\n",
      "[30, 40, 50]\n",
      "[10, 25, 30, 40, 50]\n",
      "[10, 25, 35, 40, 50]\n",
      "[10, 30, 40, 50]\n",
      "[10, 20, 40, 50]\n",
      "[10, 20, 40, 50]\n",
      "[10, 40, 50]\n"
     ]
    }
   ],
   "source": [
    "#Ques 3:  Describe how to access, modify, and delete elements in a list with examples?\n",
    "\n",
    "\"\"\" \n",
    "  Ans : 1(a). Accessing Elements\n",
    "         we can access elements in a list using their index. The index starts at 0 for the first element\n",
    "                                                                                                       \"\"\"\n",
    "\n",
    "   #Example:\n",
    "my_list = [10, 20, 30, 40, 50]\n",
    "print(my_list[0]) \n",
    "print(my_list[2])  \n",
    "\n",
    "\"\"\" 1(b) : Slicing allows you to access a range of elements in a list. \"\"\"\n",
    "        \n",
    "          #Example: \n",
    "my_list = [10, 20, 30, 40, 50]\n",
    "print(my_list[1:4])  \n",
    "print(my_list[:3])   \n",
    "print(my_list[2:])   \n",
    "\n",
    "\n",
    "        \n",
    "\"\"\" 2(a). Modifying Elements :\n",
    "    To modify an element, you can assign a new value to a specific index. \"\"\"\n",
    "    \n",
    "   \n",
    "  #Example:\n",
    "my_list = [10, 20, 30, 40, 50]\n",
    "my_list[1] = 25\n",
    "print(my_list) \n",
    "\n",
    "\n",
    "\"\"\" 2(b):  Modifying Elements with Slicing\n",
    "    You can also modify multiple elements at once using slicing.\"\"\"\n",
    "\n",
    "  #Example:\n",
    "my_list = [10, 20, 30, 40, 50]\n",
    "my_list[1:3] = [25, 35]\n",
    "print(my_list)  \n",
    "\n",
    "    \n",
    "\n",
    "\"\"\" 3(a). Deleting Elements :\n",
    "    We can delete elements using the del statement, remove() method, or pop() method. \"\"\"\n",
    "  \n",
    "     #Example: using del statement\n",
    "\n",
    "my_list = [10, 20, 30, 40, 50]\n",
    "del my_list[1]\n",
    "print(my_list)  \n",
    "\n",
    "    \n",
    "    \n",
    "    #Example: using remove() method:\n",
    "\n",
    "my_list = [10, 20, 30, 40, 50]\n",
    "my_list.remove(30)\n",
    "print(my_list)  \n",
    "\n",
    "\n",
    "    #Example: using pop() method:\n",
    "\n",
    "my_list = [10, 20, 30, 40, 50]\n",
    "my_list.pop(2)\n",
    "print(my_list)  \n",
    "\n",
    "\n",
    "\"\"\" 3(b): Deleting Elements with Slicing\n",
    "    Slicing can be used to delete multiple elements. \"\"\"\n",
    "   \n",
    "     #Example:\n",
    "\n",
    "my_list = [10, 20, 30, 40, 50]\n",
    "del my_list[1:3]\n",
    "print(my_list)  "
   ]
  },
  {
   "cell_type": "code",
   "execution_count": 11,
   "id": "b215f272-e1c7-41d4-8592-372418ffee4d",
   "metadata": {},
   "outputs": [
    {
     "name": "stdout",
     "output_type": "stream",
     "text": [
      "[1, 4, 3]\n"
     ]
    },
    {
     "ename": "TypeError",
     "evalue": "'tuple' object does not support item assignment",
     "output_type": "error",
     "traceback": [
      "\u001b[0;31m---------------------------------------------------------------------------\u001b[0m",
      "\u001b[0;31mTypeError\u001b[0m                                 Traceback (most recent call last)",
      "Cell \u001b[0;32mIn[11], line 20\u001b[0m\n\u001b[1;32m     18\u001b[0m \u001b[38;5;66;03m# Tuple example\u001b[39;00m\n\u001b[1;32m     19\u001b[0m my_tuple \u001b[38;5;241m=\u001b[39m (\u001b[38;5;241m1\u001b[39m, \u001b[38;5;241m2\u001b[39m, \u001b[38;5;241m3\u001b[39m)\n\u001b[0;32m---> 20\u001b[0m \u001b[43mmy_tuple\u001b[49m\u001b[43m[\u001b[49m\u001b[38;5;241;43m1\u001b[39;49m\u001b[43m]\u001b[49m \u001b[38;5;241m=\u001b[39m \u001b[38;5;241m4\u001b[39m  \u001b[38;5;66;03m# This will raise an error\u001b[39;00m\n",
      "\u001b[0;31mTypeError\u001b[0m: 'tuple' object does not support item assignment"
     ]
    }
   ],
   "source": [
    "#Ques 4: Compare and contrast tuples and lists with examples?\n",
    "\n",
    "\n",
    "\"\"\" Ans : 1. Mutability\n",
    "\n",
    "    Lists are mutable, meaning you can change their content after creation.\n",
    "    \n",
    "    Tuples are immutable, meaning once they are created, their content cannot be changed. \"\"\"\n",
    "\n",
    "\n",
    "#Examples: \n",
    "\n",
    " # List example\n",
    "my_list = [1, 2, 3]\n",
    "my_list[1] = 4 \n",
    "print(my_list)  \n",
    "\n",
    "# Tuple example\n",
    "my_tuple = (1, 2, 3)\n",
    "my_tuple[1] = 4  # This will throw an error"
   ]
  },
  {
   "cell_type": "code",
   "execution_count": 15,
   "id": "ae1ef193-e155-450c-b3ab-c3e639092db8",
   "metadata": {},
   "outputs": [
    {
     "data": {
      "text/plain": [
       "(10.0, 20.0)"
      ]
     },
     "execution_count": 15,
     "metadata": {},
     "output_type": "execute_result"
    }
   ],
   "source": [
    "\"\"\" 2. Use Cases :\n",
    "\n",
    "    Lists are suitable for collections of items that may need to be modified.\n",
    "    \n",
    "    Tuples are suitable for fixed collections of items, like coordinates or records. \"\"\"\n",
    "\n",
    "#Example: \n",
    "\n",
    "# List example\n",
    "shopping_list = [\"apples\", \"bananas\", \"oranges\"]\n",
    "shopping_list.append(\"grapes\")  \n",
    "\n",
    "# Tuple example\n",
    "coordinates = (10.0, 20.0) \n",
    "\n",
    "shopping_list\n",
    "\n",
    "coordinates\n",
    "    "
   ]
  },
  {
   "cell_type": "code",
   "execution_count": 16,
   "id": "29f356c2-c983-4dd0-918d-9b0e787dcada",
   "metadata": {},
   "outputs": [
    {
     "data": {
      "text/plain": [
       "['apples', 'bananas', 'oranges', 'grapes']"
      ]
     },
     "execution_count": 16,
     "metadata": {},
     "output_type": "execute_result"
    }
   ],
   "source": [
    "shopping_list"
   ]
  },
  {
   "cell_type": "code",
   "execution_count": 17,
   "id": "3024ed3a-701d-42d7-bf44-b236c80c80d2",
   "metadata": {},
   "outputs": [],
   "source": [
    "\"\"\" 3. Syntax :\n",
    "\n",
    "    Lists are defined using square brackets [].\n",
    "    \n",
    "    Tuples are defined using parentheses (). \n",
    "                                             \"\"\"\n",
    "\n",
    "# List\n",
    "my_list = [1, 2, 3]\n",
    "\n",
    "# Tuple\n",
    "my_tuple = (1, 2, 3)\n"
   ]
  },
  {
   "cell_type": "code",
   "execution_count": 18,
   "id": "c040b3ad-e876-4416-8c46-aa615beb37cd",
   "metadata": {},
   "outputs": [
    {
     "data": {
      "text/plain": [
       "[1, 2, 3]"
      ]
     },
     "execution_count": 18,
     "metadata": {},
     "output_type": "execute_result"
    }
   ],
   "source": [
    "my_list"
   ]
  },
  {
   "cell_type": "code",
   "execution_count": 19,
   "id": "61aed1ef-d773-4112-804b-52e4ce660ce5",
   "metadata": {},
   "outputs": [
    {
     "data": {
      "text/plain": [
       "(1, 2, 3)"
      ]
     },
     "execution_count": 19,
     "metadata": {},
     "output_type": "execute_result"
    }
   ],
   "source": [
    "my_tuple"
   ]
  },
  {
   "cell_type": "code",
   "execution_count": 20,
   "id": "4c3428ec-a90f-4185-8a04-c9ce8f9ced5d",
   "metadata": {},
   "outputs": [
    {
     "name": "stdout",
     "output_type": "stream",
     "text": [
      "[1, 2, 3, 4]\n",
      "2\n",
      "2\n"
     ]
    }
   ],
   "source": [
    "\"\"\"4. Methods :\n",
    "\n",
    "Lists have more built-in methods like append(), remove(), sort(), etc.\n",
    "\n",
    "\n",
    "Tuples have fewer methods, mainly for counting and finding elements. \n",
    "                                                     \n",
    "                                                                     \"\"\"\n",
    "# List methods\n",
    "my_list = [1, 2, 3]\n",
    "my_list.append(4)\n",
    "print(my_list)  \n",
    "\n",
    "# Tuple methods\n",
    "my_tuple = (1, 2, 3, 2)\n",
    "print(my_tuple.count(2)) \n",
    "print(my_tuple.index(3))  \n"
   ]
  },
  {
   "cell_type": "code",
   "execution_count": 24,
   "id": "45df6445-620b-4453-ac5f-c25e3644b46e",
   "metadata": {},
   "outputs": [
    {
     "name": "stdout",
     "output_type": "stream",
     "text": [
      "abc\n",
      "5\n",
      "Hello\n",
      "???\n",
      "{10, 20}\n",
      "{10, 3.0, 'Hello'}\n",
      "{1, 2}\n"
     ]
    }
   ],
   "source": [
    "#Ques 5:  Describe the key features of sets and provide examples of their use?\n",
    "\n",
    "\"\"\"\n",
    "  Ans  : In Python, sets are a built-in data type used for storing an unordered collection of unique elements.\n",
    "  Because sets are both unordered and unindexed, they provide a range of unique possibilities and are especially\n",
    "  useful for tasks like removing duplicates or performing mathematical set operations.  \n",
    "  \n",
    "  \n",
    " key featues are: \n",
    "\n",
    "1. Unordered Collection: Sets do not maintain any particular order for their elements.\n",
    "   The elements are stored in a seemingly random order and can be iterated in any sequence.\n",
    "\n",
    "2. Unique Elements: A set cannot contain duplicate elements. Each element in a set must be unique.\n",
    "\n",
    "3. Mutable: Sets are mutable, meaning you can add and remove elements after the set has been created.\n",
    "   However, the elements themselves must be immutable (e.g., numbers, strings, tuples).\n",
    "\n",
    "4. No Indexing or Slicing: Since sets are unordered, they do not support indexing or slicing operations,\n",
    "   which are common in ordered sequences like lists and tuples.\n",
    "  \n",
    "5. Set intersection : Set intersection is used to find the elements common to both sets. Only elements\n",
    "   appearing in all of the input sets are included in the resulting set. \n",
    "                                                                           \"\"\"\n",
    "\n",
    "\n",
    "#Examples:\n",
    "\n",
    "#1. Unordered Collection\n",
    "\n",
    "S = set()  # Empty set\n",
    " \n",
    "S.add('???')\n",
    "S.add('abc')\n",
    "S.add(5)\n",
    "S.add('Hello')\n",
    " \n",
    "for element in S:\n",
    "    print(element)\n",
    "    \n",
    "    \n",
    "#2. Unique elements \n",
    "\n",
    "S = {10}\n",
    " \n",
    "S.add(10)\n",
    "S.add(20)\n",
    "S.add(10)\n",
    "print(S)\n",
    "\n",
    "\n",
    "\n",
    "#3. Mutable \n",
    "\n",
    "S = set()  # Creates an empty set\n",
    " \n",
    "S.add(10)\n",
    "S.add(3.0)\n",
    "S.add(\"Hello\") \n",
    "print(S)\n",
    "\n",
    "\n",
    "#4. set intersection\n",
    "\n",
    "A = {1, 2, 3}\n",
    "B = {2, 4, 6, 1}\n",
    " \n",
    "# using the intersection method\n",
    "result = A.intersection(B)\n",
    "# using the intersection operator\n",
    "result = A & B \n",
    "print(result)"
   ]
  },
  {
   "cell_type": "code",
   "execution_count": null,
   "id": "1fe464ca-27a9-4357-80e2-fa77a1506396",
   "metadata": {},
   "outputs": [],
   "source": [
    "#Ques 6:  Discuss the use cases of tuples and sets in Python programming?\n",
    "\n",
    "\"\"\" \n",
    "   Ans: Tuples and sets are both useful data structures in Python,each with their own unique characteristics\n",
    "         and use cases.\n",
    "         \n",
    "     1. Tuples: \n",
    "       Tuples are immutable sequences, meaning once they are created, their elements cannot be changed. They\n",
    "        are defined using parentheses ().\n",
    "\n",
    "     Use Cases:\n",
    "     \n",
    "     a. Fixed Collections: Tuples are ideal for storing a collection of items that should not change throughout\n",
    "                        the program, such as coordinates (x, y), RGB color values, or days of the week.\n",
    "                        \n",
    "     b. Dictionary Keys: Since tuples are immutable, they can be used as keys in dictionaries, unlike lists.\n",
    "     \n",
    "    \n",
    "     c. Return Multiple Values: Functions can return multiple values using tuples, making it easy to unpack the\n",
    "           results.\n",
    "           \n",
    "           \n",
    "     d. Data Integrity: When you want to ensure that the data remains constant and unaltered, tuples provide\n",
    "        a way to enforce this immutability.  \n",
    "        \n",
    "        \n",
    "      2. Sets : \n",
    "      \n",
    "       Sets are unordered collections of unique elements, defined using curly braces {} or the set() function.\n",
    "\n",
    "    Use Cases:\n",
    "    \n",
    "      a. Unique Elements: Sets automatically handle duplicates, making them perfect for storing unique items,\n",
    "                       such as a collection of unique words from a text.\n",
    "                       \n",
    "      b. Membership Testing: Sets provide efficient methods for checking if an element is present, which is faster\n",
    "                          than lists.\n",
    "                          \n",
    "      c. Set Operations: Sets support mathematical operations like union, intersection, difference, and symmetric\n",
    "                      difference, which are useful for tasks like finding common elements between two lists or\n",
    "                      removing duplicates.\n",
    "                      \n",
    "      d. Removing Duplicates: Converting a list to a set and back to a list is a common technique to remove \n",
    "                           duplicates from the list.  \n",
    "                               \n",
    "                                                        \"\"\"\n",
    "        "
   ]
  },
  {
   "cell_type": "code",
   "execution_count": 28,
   "id": "93eb6377-5040-4f65-8a86-c71c87a2cbe2",
   "metadata": {},
   "outputs": [
    {
     "name": "stdout",
     "output_type": "stream",
     "text": [
      "{'name': 'yogesh', 'age': 25}\n",
      "{'name': 'yogesh', 'age': 25, 'location': 'New York', 'profession': 'Engineer'}\n",
      "{'name': 'yogesh', 'age': 26, 'location': 'New York', 'profession': 'Engineer'}\n",
      "{'name': 'yogesh', 'age': 26, 'location': 'New York'}\n",
      "{'name': 'yogesh', 'location': 'New York'}\n",
      "26\n",
      "{'name': 'yogesh'}\n",
      "('location', 'New York')\n"
     ]
    }
   ],
   "source": [
    "#Ques 7: Describe how to add, modify, and delete items in a dictionary with examples? \n",
    "\n",
    "\n",
    "\"\"\" Ans : Adding Items to a Dictionary\n",
    "          1. To add a new key-value pair to a dictionary, we can simply assign a value to a new key. \"\"\"\n",
    "\n",
    "# Example\n",
    "my_dict = {}\n",
    "my_dict['name'] = 'yogesh'\n",
    "my_dict['age'] = 25\n",
    "print(my_dict)\n",
    "\n",
    "\"\"\" 2. We can also use the update() method to add multiple key-value pairs at once. \"\"\"\n",
    "    \n",
    "    # Example\n",
    "my_dict.update({'location': 'New York', 'profession': 'Engineer'})\n",
    "print(my_dict)\n",
    "\n",
    "\n",
    "\"\"\" Modifying : Modifying Items in a Dictionary\n",
    "                To modify the value associated with a particular key, you can reassign the value using the\n",
    "                assignment operator. \"\"\"\n",
    "\n",
    "\n",
    "# Example\n",
    "my_dict['age'] = 26\n",
    "print(my_dict)\n",
    "\n",
    "\n",
    "\n",
    "\"\"\"  Deleting Items from a Dictionary : There are several ways to remove items from a dictionary. \"\"\"\n",
    "\n",
    "# Using the del statement :\n",
    "\n",
    "del my_dict['profession']\n",
    "print(my_dict)\n",
    "\n",
    "\n",
    "\n",
    "# Using the pop() method :\n",
    "\n",
    "age = my_dict.pop('age')\n",
    "print(my_dict)\n",
    "print(age)\n",
    "\n",
    "\n",
    "\n",
    "# Using the popitem() method :\n",
    "\n",
    "item = my_dict.popitem()\n",
    "print(my_dict)\n",
    "print(item)\n",
    "    "
   ]
  },
  {
   "cell_type": "code",
   "execution_count": 29,
   "id": "e3557e35-c0ba-436a-beb4-60ea0e1af494",
   "metadata": {},
   "outputs": [
    {
     "name": "stdout",
     "output_type": "stream",
     "text": [
      "yogi\n",
      "Point A\n"
     ]
    }
   ],
   "source": [
    "#Ques 8: Discuss the importance of dictionary keys being immutable and provide examples?\n",
    "\n",
    "\"\"\"\n",
    "Ans : Dictionary keys must be immutable. This requirement is crucial for following reasons:\n",
    "   \n",
    " Importance of Immutable Dictionary Keys :\n",
    "        \n",
    "  1. Hashability:\n",
    "       Dictionaries in Python are implemented using hash tables. Each key is hashed to a specific value,\n",
    "       which is used to quickly locate the corresponding value in the dictionary.\n",
    "       \n",
    "       If a key were mutable, its hash value could change if the key itself were modified. This would make\n",
    "       it impossible to reliably retrieve the associated value, as the hash would no longer point to the correct\n",
    "       location.\n",
    "       \n",
    "  2.Consistency:\n",
    "       Immutable keys ensure that the key-value pairs remain consistent throughout the lifetime of the \n",
    "       dictionary. This consistency is vital for maintaining the integrity of the data structure.\n",
    "       \n",
    "       \n",
    "  3.Performance:\n",
    "       Immutable keys allow for faster lookups and retrievals because the hash value remains constant.\n",
    "       This stability is essential for the efficient performance of dictionaries\n",
    "       \n",
    "       \n",
    "       By ensuring that dictionary keys are immutable, Python maintains the reliability and efficiency of its\n",
    "       dictionary data structure. If you need to use a mutable type as a key, consider converting it to an\n",
    "       immutable type, such as a tuple or a string. \n",
    "                                                      \"\"\"\n",
    "\n",
    "#Examples of Immutable Keys: \n",
    "\n",
    "\n",
    "  #Using Strings as Keys\n",
    "    \n",
    "my_dict = {'name': 'yogi', 'age': 25}\n",
    "print(my_dict['name']) \n",
    "    \n",
    "\n",
    "   #using tuples as keys\n",
    "\n",
    "coordinates = {(10.0, 20.0): 'Point A', (30.0, 40.0): 'Point B'}\n",
    "print(coordinates[(10.0, 20.0)])\n",
    "\n"
   ]
  },
  {
   "cell_type": "code",
   "execution_count": null,
   "id": "b78ba64a-9d75-4eac-a416-adffdc5257b6",
   "metadata": {},
   "outputs": [],
   "source": []
  }
 ],
 "metadata": {
  "kernelspec": {
   "display_name": "Python 3 (ipykernel)",
   "language": "python",
   "name": "python3"
  },
  "language_info": {
   "codemirror_mode": {
    "name": "ipython",
    "version": 3
   },
   "file_extension": ".py",
   "mimetype": "text/x-python",
   "name": "python",
   "nbconvert_exporter": "python",
   "pygments_lexer": "ipython3",
   "version": "3.10.8"
  }
 },
 "nbformat": 4,
 "nbformat_minor": 5
}
